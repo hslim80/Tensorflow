{
 "cells": [
  {
   "cell_type": "markdown",
   "metadata": {},
   "source": [
    "# BeautifulSoup 사용법"
   ]
  },
  {
   "cell_type": "code",
   "execution_count": 3,
   "metadata": {},
   "outputs": [],
   "source": [
    "from bs4 import BeautifulSoup\n",
    "\n",
    "fp = open(\"data/01_Example.html\")\n",
    "soup = BeautifulSoup(fp, 'html.parser')"
   ]
  },
  {
   "cell_type": "markdown",
   "metadata": {},
   "source": [
    "## 태그를 이용해서 가져오기"
   ]
  },
  {
   "cell_type": "markdown",
   "metadata": {},
   "source": [
    "### - find() : 해당 조건에 맞는 하나의 태그를 가져온다. 중복이면 가장 첫 번째 태그를 가져온다."
   ]
  },
  {
   "cell_type": "code",
   "execution_count": 4,
   "metadata": {},
   "outputs": [
    {
     "name": "stdout",
     "output_type": "stream",
     "text": [
      "<div>\n",
      "<p>a</p>\n",
      "<p>b</p>\n",
      "<p>c</p>\n",
      "</div>\n"
     ]
    }
   ],
   "source": [
    "first_div = soup.find(\"div\")\n",
    "print(first_div)"
   ]
  },
  {
   "cell_type": "markdown",
   "metadata": {},
   "source": [
    "### - find_all() : 해당 조건에 맞는 모든 태그들을 가져온다."
   ]
  },
  {
   "cell_type": "code",
   "execution_count": 5,
   "metadata": {},
   "outputs": [
    {
     "name": "stdout",
     "output_type": "stream",
     "text": [
      "[<div>\n",
      "<p>a</p>\n",
      "<p>b</p>\n",
      "<p>c</p>\n",
      "</div>, <div class=\"ex_class\">\n",
      "<p>1</p>\n",
      "<p>2</p>\n",
      "<p>3</p>\n",
      "</div>, <div id=\"ex_id\">\n",
      "<p>X</p>\n",
      "<p>Y</p>\n",
      "<p>Z</p>\n",
      "</div>]\n"
     ]
    }
   ],
   "source": [
    "all_divs = soup.find_all(\"div\")\n",
    "print(all_divs)"
   ]
  },
  {
   "cell_type": "code",
   "execution_count": 6,
   "metadata": {},
   "outputs": [
    {
     "name": "stdout",
     "output_type": "stream",
     "text": [
      "[<p>a</p>, <p>b</p>, <p>c</p>, <p>1</p>, <p>2</p>, <p>3</p>, <p>X</p>, <p>Y</p>, <p>Z</p>, <p>This is a paragraph.</p>, <p>This is another paragraph.</p>]\n"
     ]
    }
   ],
   "source": [
    "# 모든 <p> 태그들을 가져오기\n",
    "all_ps = soup.find_all(\"p\")\n",
    "print(all_ps)"
   ]
  },
  {
   "cell_type": "markdown",
   "metadata": {},
   "source": [
    "## 태그와 속성을 이용해서 가져오기\n",
    "태그와 속성을 이용할 때 함수의 인자로 원하는 태그를 첫번째 인자로 그 다음에 속성:값의 형태(dictionary)로 만들어서 넣어주면 된다.\n",
    "\n",
    "- find_all('태그명', {'속성명' : '값' ...})\n",
    "- find('태그명', {'속성명' : '값' ...})"
   ]
  },
  {
   "cell_type": "code",
   "execution_count": 7,
   "metadata": {},
   "outputs": [
    {
     "name": "stdout",
     "output_type": "stream",
     "text": [
      "<div id=\"ex_id\">\n",
      "<p>X</p>\n",
      "<p>Y</p>\n",
      "<p>Z</p>\n",
      "</div>\n"
     ]
    }
   ],
   "source": [
    "ex_id_divs = soup.find('div', {'id' : 'ex_id'})\n",
    "print(ex_id_divs)"
   ]
  },
  {
   "cell_type": "code",
   "execution_count": 8,
   "metadata": {},
   "outputs": [
    {
     "name": "stdout",
     "output_type": "stream",
     "text": [
      "<div id=\"ex_id\">\n",
      "<p>X</p>\n",
      "<p>Y</p>\n",
      "<p>Z</p>\n",
      "</div>\n"
     ]
    }
   ],
   "source": [
    "result = soup.find('div', id = 'ex_id')\n",
    "print(result)"
   ]
  },
  {
   "cell_type": "code",
   "execution_count": 9,
   "metadata": {},
   "outputs": [
    {
     "name": "stdout",
     "output_type": "stream",
     "text": [
      "<div class=\"ex_class\">\n",
      "<p>1</p>\n",
      "<p>2</p>\n",
      "<p>3</p>\n",
      "</div>\n"
     ]
    }
   ],
   "source": [
    "result = soup.find('div', {'class' : 'ex_class'})\n",
    "print(result)"
   ]
  },
  {
   "cell_type": "code",
   "execution_count": 10,
   "metadata": {},
   "outputs": [
    {
     "name": "stdout",
     "output_type": "stream",
     "text": [
      "<div class=\"ex_class\">\n",
      "<p>1</p>\n",
      "<p>2</p>\n",
      "<p>3</p>\n",
      "</div>\n"
     ]
    }
   ],
   "source": [
    "result = soup.find('div', class_ = 'ex_class')\n",
    "print(result)"
   ]
  },
  {
   "cell_type": "markdown",
   "metadata": {},
   "source": [
    "## HTML 구조를 이용해 부분부분 가져오기"
   ]
  },
  {
   "cell_type": "code",
   "execution_count": 11,
   "metadata": {},
   "outputs": [
    {
     "name": "stdout",
     "output_type": "stream",
     "text": [
      "[<p>X</p>, <p>Y</p>, <p>Z</p>]\n"
     ]
    }
   ],
   "source": [
    "ex_id_divs = soup.find(\"div\", {\"id\":\"ex_id\"})\n",
    "# 찾은 태그들 안에서 p 태그를 가져온다.\n",
    "all_ps_in_ex_id_divs = ex_id_divs.find_all(\"p\")\n",
    "print(all_ps_in_ex_id_divs)"
   ]
  },
  {
   "cell_type": "code",
   "execution_count": 12,
   "metadata": {},
   "outputs": [
    {
     "name": "stdout",
     "output_type": "stream",
     "text": [
      "<div>\n",
      "<p>a</p>\n",
      "<p>b</p>\n",
      "<p>c</p>\n",
      "</div>\n",
      "\n",
      "<div class=\"ex_class\">\n",
      "<p>1</p>\n",
      "<p>2</p>\n",
      "<p>3</p>\n",
      "</div>\n",
      "\n",
      "<div id=\"ex_id\">\n",
      "<p>X</p>\n",
      "<p>Y</p>\n",
      "<p>Z</p>\n",
      "</div>\n",
      "\n"
     ]
    }
   ],
   "source": [
    "all_divs = soup.find_all('div')\n",
    "for each_div in all_divs:\n",
    "    print(each_div)\n",
    "    print()"
   ]
  },
  {
   "cell_type": "code",
   "execution_count": 14,
   "metadata": {},
   "outputs": [],
   "source": [
    "fp.close()"
   ]
  },
  {
   "cell_type": "code",
   "execution_count": null,
   "metadata": {},
   "outputs": [],
   "source": []
  }
 ],
 "metadata": {
  "kernelspec": {
   "display_name": "Python 3",
   "language": "python",
   "name": "python3"
  },
  "language_info": {
   "codemirror_mode": {
    "name": "ipython",
    "version": 3
   },
   "file_extension": ".py",
   "mimetype": "text/x-python",
   "name": "python",
   "nbconvert_exporter": "python",
   "pygments_lexer": "ipython3",
   "version": "3.7.4"
  }
 },
 "nbformat": 4,
 "nbformat_minor": 2
}
